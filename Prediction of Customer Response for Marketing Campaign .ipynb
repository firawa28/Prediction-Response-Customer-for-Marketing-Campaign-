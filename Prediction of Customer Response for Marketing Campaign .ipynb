{
 "cells": [
  {
   "cell_type": "markdown",
   "metadata": {},
   "source": [
    "## Import Library"
   ]
  },
  {
   "cell_type": "code",
   "execution_count": 1,
   "metadata": {},
   "outputs": [],
   "source": [
    "import pandas as pd\n",
    "import numpy as np\n",
    "import seaborn as sns\n",
    "import matplotlib.pyplot as plt\n",
    "\n",
    "from sklearn.naive_bayes import GaussianNB\n",
    "from sklearn.tree import DecisionTreeClassifier\n",
    "from sklearn.ensemble import AdaBoostClassifier, GradientBoostingClassifier\n",
    "from sklearn.ensemble import RandomForestClassifier\n",
    "from xgboost import XGBClassifier\n",
    "from sklearn.linear_model import LogisticRegression\n",
    "\n",
    "from sklearn.model_selection import train_test_split\n",
    "from sklearn.metrics import recall_score, f1_score, accuracy_score, precision_score\n",
    "\n",
    "import warnings\n",
    "warnings.filterwarnings (\"ignore\")\n",
    "\n",
    "pd.set_option('display.max_rows', 500)\n",
    "\n",
    "sns.set_style('darkgrid')"
   ]
  },
  {
   "cell_type": "markdown",
   "metadata": {},
   "source": [
    "## Load Data"
   ]
  },
  {
   "cell_type": "code",
   "execution_count": 2,
   "metadata": {},
   "outputs": [],
   "source": [
    "dataset = pd.read_csv('bank.csv')"
   ]
  },
  {
   "cell_type": "code",
   "execution_count": 3,
   "metadata": {},
   "outputs": [
    {
     "data": {
      "text/html": [
       "<div>\n",
       "<style scoped>\n",
       "    .dataframe tbody tr th:only-of-type {\n",
       "        vertical-align: middle;\n",
       "    }\n",
       "\n",
       "    .dataframe tbody tr th {\n",
       "        vertical-align: top;\n",
       "    }\n",
       "\n",
       "    .dataframe thead th {\n",
       "        text-align: right;\n",
       "    }\n",
       "</style>\n",
       "<table border=\"1\" class=\"dataframe\">\n",
       "  <thead>\n",
       "    <tr style=\"text-align: right;\">\n",
       "      <th></th>\n",
       "      <th>age</th>\n",
       "      <th>job</th>\n",
       "      <th>marital</th>\n",
       "      <th>education</th>\n",
       "      <th>defaults</th>\n",
       "      <th>balance</th>\n",
       "      <th>housing</th>\n",
       "      <th>loan</th>\n",
       "      <th>contact</th>\n",
       "      <th>day</th>\n",
       "      <th>month</th>\n",
       "      <th>duration</th>\n",
       "      <th>campaign</th>\n",
       "      <th>pdays</th>\n",
       "      <th>previous</th>\n",
       "      <th>poutcome</th>\n",
       "      <th>deposit</th>\n",
       "    </tr>\n",
       "  </thead>\n",
       "  <tbody>\n",
       "    <tr>\n",
       "      <td>0</td>\n",
       "      <td>59</td>\n",
       "      <td>admin.</td>\n",
       "      <td>married</td>\n",
       "      <td>secondary</td>\n",
       "      <td>no</td>\n",
       "      <td>2343</td>\n",
       "      <td>yes</td>\n",
       "      <td>no</td>\n",
       "      <td>unknown</td>\n",
       "      <td>5</td>\n",
       "      <td>may</td>\n",
       "      <td>1042</td>\n",
       "      <td>1</td>\n",
       "      <td>-1</td>\n",
       "      <td>0</td>\n",
       "      <td>unknown</td>\n",
       "      <td>yes</td>\n",
       "    </tr>\n",
       "    <tr>\n",
       "      <td>1</td>\n",
       "      <td>56</td>\n",
       "      <td>admin.</td>\n",
       "      <td>married</td>\n",
       "      <td>secondary</td>\n",
       "      <td>no</td>\n",
       "      <td>45</td>\n",
       "      <td>no</td>\n",
       "      <td>no</td>\n",
       "      <td>unknown</td>\n",
       "      <td>5</td>\n",
       "      <td>may</td>\n",
       "      <td>1467</td>\n",
       "      <td>1</td>\n",
       "      <td>-1</td>\n",
       "      <td>0</td>\n",
       "      <td>unknown</td>\n",
       "      <td>yes</td>\n",
       "    </tr>\n",
       "    <tr>\n",
       "      <td>2</td>\n",
       "      <td>41</td>\n",
       "      <td>technician</td>\n",
       "      <td>married</td>\n",
       "      <td>secondary</td>\n",
       "      <td>no</td>\n",
       "      <td>1270</td>\n",
       "      <td>yes</td>\n",
       "      <td>no</td>\n",
       "      <td>unknown</td>\n",
       "      <td>5</td>\n",
       "      <td>may</td>\n",
       "      <td>1389</td>\n",
       "      <td>1</td>\n",
       "      <td>-1</td>\n",
       "      <td>0</td>\n",
       "      <td>unknown</td>\n",
       "      <td>yes</td>\n",
       "    </tr>\n",
       "    <tr>\n",
       "      <td>3</td>\n",
       "      <td>55</td>\n",
       "      <td>services</td>\n",
       "      <td>married</td>\n",
       "      <td>secondary</td>\n",
       "      <td>no</td>\n",
       "      <td>2476</td>\n",
       "      <td>yes</td>\n",
       "      <td>no</td>\n",
       "      <td>unknown</td>\n",
       "      <td>5</td>\n",
       "      <td>may</td>\n",
       "      <td>579</td>\n",
       "      <td>1</td>\n",
       "      <td>-1</td>\n",
       "      <td>0</td>\n",
       "      <td>unknown</td>\n",
       "      <td>yes</td>\n",
       "    </tr>\n",
       "    <tr>\n",
       "      <td>4</td>\n",
       "      <td>54</td>\n",
       "      <td>admin.</td>\n",
       "      <td>married</td>\n",
       "      <td>tertiary</td>\n",
       "      <td>no</td>\n",
       "      <td>184</td>\n",
       "      <td>no</td>\n",
       "      <td>no</td>\n",
       "      <td>unknown</td>\n",
       "      <td>5</td>\n",
       "      <td>may</td>\n",
       "      <td>673</td>\n",
       "      <td>2</td>\n",
       "      <td>-1</td>\n",
       "      <td>0</td>\n",
       "      <td>unknown</td>\n",
       "      <td>yes</td>\n",
       "    </tr>\n",
       "  </tbody>\n",
       "</table>\n",
       "</div>"
      ],
      "text/plain": [
       "   age         job  marital  education defaults  balance housing loan  \\\n",
       "0   59      admin.  married  secondary       no     2343     yes   no   \n",
       "1   56      admin.  married  secondary       no       45      no   no   \n",
       "2   41  technician  married  secondary       no     1270     yes   no   \n",
       "3   55    services  married  secondary       no     2476     yes   no   \n",
       "4   54      admin.  married   tertiary       no      184      no   no   \n",
       "\n",
       "   contact  day month  duration  campaign  pdays  previous poutcome deposit  \n",
       "0  unknown    5   may      1042         1     -1         0  unknown     yes  \n",
       "1  unknown    5   may      1467         1     -1         0  unknown     yes  \n",
       "2  unknown    5   may      1389         1     -1         0  unknown     yes  \n",
       "3  unknown    5   may       579         1     -1         0  unknown     yes  \n",
       "4  unknown    5   may       673         2     -1         0  unknown     yes  "
      ]
     },
     "execution_count": 3,
     "metadata": {},
     "output_type": "execute_result"
    }
   ],
   "source": [
    "dataset.head()"
   ]
  },
  {
   "cell_type": "code",
   "execution_count": 4,
   "metadata": {},
   "outputs": [],
   "source": [
    "dataset = dataset.rename(columns={'deposit':'response'})"
   ]
  },
  {
   "cell_type": "markdown",
   "metadata": {},
   "source": [
    "Input variables:\n",
    "### Data Customer Bank:\n",
    "1 - age (numeric) : Umur customer\n",
    "\n",
    "2 - job : Tipe dari pekerjaan Customer\n",
    "\n",
    "3 - marital : Status perkawinan Customer\n",
    "\n",
    "4 - education : Pendidikan Customer\n",
    "\n",
    "5 - default: Memiliki kredit secara default?\n",
    "\n",
    "6 - balance: Simpanan atau saldo yang dimiliki oleh customer.\n",
    "\n",
    "7 - housing: Memiliki pinjaman rumah?\n",
    "\n",
    "8 - loan: Memiliki pinjaman pribadi?\n",
    "### Field yang berhubungan dengan campaign terakhir dilakukan\n",
    "9 - contact: Type contact komunikasi\n",
    "\n",
    "10 - month: Bulan terakhir dihubungi\n",
    "\n",
    "11 - day: Hari terakhir ketika dihubungi\n",
    "\n",
    "12 - duration: Durasi terakhir ketika dihubungi dalam detik. Catatan penting: Field ini sangat berefek pada output target Misalkan duration=0 then y='no'. Namun, durasinya tidak diketahui sebelum panggilan dilakukan. Juga, setelah panggilan berakhir, y jelas diketahui. Dengan demikian, input ini hanya boleh dimasukkan untuk tujuan benchmark dan harus dibuang jika tujuannya adalah untuk memiliki model prediksi yang realistis.\n",
    "\n",
    "### Field lain:\n",
    "13 - campaign: jumlah kontak yang dilakukan selama kampanye ini.\n",
    "\n",
    "14 - pdays: jumlah hari yang berlalu setelah klien terakhir dihubungi dari kampanye sebelumnya\n",
    "\n",
    "15 - previous: jumlah kontak yang dilakukan sebelum kampanye ini dan untuk klien ini\n",
    "\n",
    "16 - poutcome: hasil dari kampanye pemasaran sebelumnya\n",
    "\n",
    "## Target\n",
    "17 response: target atau response customer dari marketing campaign"
   ]
  },
  {
   "cell_type": "markdown",
   "metadata": {},
   "source": [
    "## Sneak Peak to Data"
   ]
  },
  {
   "cell_type": "code",
   "execution_count": 5,
   "metadata": {},
   "outputs": [
    {
     "name": "stdout",
     "output_type": "stream",
     "text": [
      "Jumlah baris dataset adalah 11162\n",
      "Jumlah kolom dataset adalah 17\n"
     ]
    }
   ],
   "source": [
    "#Check size of data\n",
    "print (\"Jumlah baris dataset adalah {}\".format(dataset.shape[0]))\n",
    "print (\"Jumlah kolom dataset adalah {}\".format(dataset.shape[1]))"
   ]
  },
  {
   "cell_type": "code",
   "execution_count": 6,
   "metadata": {},
   "outputs": [
    {
     "name": "stdout",
     "output_type": "stream",
     "text": [
      "<class 'pandas.core.frame.DataFrame'>\n",
      "RangeIndex: 11162 entries, 0 to 11161\n",
      "Data columns (total 17 columns):\n",
      "age          11162 non-null int64\n",
      "job          11162 non-null object\n",
      "marital      11162 non-null object\n",
      "education    11162 non-null object\n",
      "defaults     11162 non-null object\n",
      "balance      11162 non-null int64\n",
      "housing      11162 non-null object\n",
      "loan         11162 non-null object\n",
      "contact      11162 non-null object\n",
      "day          11162 non-null int64\n",
      "month        11162 non-null object\n",
      "duration     11162 non-null int64\n",
      "campaign     11162 non-null int64\n",
      "pdays        11162 non-null int64\n",
      "previous     11162 non-null int64\n",
      "poutcome     11162 non-null object\n",
      "response     11162 non-null object\n",
      "dtypes: int64(7), object(10)\n",
      "memory usage: 1.4+ MB\n"
     ]
    }
   ],
   "source": [
    "dataset.info()"
   ]
  },
  {
   "cell_type": "markdown",
   "metadata": {},
   "source": [
    "Terlihat terdapat 10 kolom bertipe kategorikal dan 7 kolom bertipe numerik, kemudian tidak terdapat missing value."
   ]
  },
  {
   "cell_type": "code",
   "execution_count": 7,
   "metadata": {},
   "outputs": [
    {
     "name": "stdout",
     "output_type": "stream",
     "text": [
      "Unique value dari kolom job adalah: \n",
      " ['admin.' 'technician' 'services' 'management' 'retired' 'blue-collar'\n",
      " 'unemployed' 'entrepreneur' 'housemaid' 'unknown' 'self-employed'\n",
      " 'student']\n",
      "Unique value dari kolom marital adalah: \n",
      " ['married' 'single' 'divorced']\n",
      "Unique value dari kolom education adalah: \n",
      " ['secondary' 'tertiary' 'primary' 'unknown']\n",
      "Unique value dari kolom defaults adalah: \n",
      " ['no' 'yes']\n",
      "Unique value dari kolom housing adalah: \n",
      " ['yes' 'no']\n",
      "Unique value dari kolom loan adalah: \n",
      " ['no' 'yes']\n",
      "Unique value dari kolom contact adalah: \n",
      " ['unknown' 'cellular' 'telephone']\n",
      "Unique value dari kolom month adalah: \n",
      " ['may' 'jun' 'jul' 'aug' 'oct' 'nov' 'dec' 'jan' 'feb' 'mar' 'apr' 'sep']\n",
      "Unique value dari kolom poutcome adalah: \n",
      " ['unknown' 'other' 'failure' 'success']\n",
      "Unique value dari kolom response adalah: \n",
      " ['yes' 'no']\n"
     ]
    }
   ],
   "source": [
    "## Check unique value for each categorical column\n",
    "data_kategorikal = dataset.dtypes[dataset.dtypes == 'object'].index\n",
    "\n",
    "for cols in data_kategorikal:\n",
    "    print (\"Unique value dari kolom {} adalah: \\n\".format(cols), dataset[cols].unique())"
   ]
  },
  {
   "cell_type": "code",
   "execution_count": 8,
   "metadata": {},
   "outputs": [
    {
     "data": {
      "text/plain": [
       "array([ 5,  6,  7,  8,  9, 12, 13, 14, 15, 16, 19, 20, 21, 23, 26, 27, 28,\n",
       "       29, 30,  2,  3,  4, 11, 17, 18, 24,  1, 10, 22, 25, 31],\n",
       "      dtype=int64)"
      ]
     },
     "execution_count": 8,
     "metadata": {},
     "output_type": "execute_result"
    }
   ],
   "source": [
    "dataset['day'].unique()"
   ]
  },
  {
   "cell_type": "code",
   "execution_count": 9,
   "metadata": {
    "scrolled": true
   },
   "outputs": [
    {
     "data": {
      "text/html": [
       "<div>\n",
       "<style scoped>\n",
       "    .dataframe tbody tr th:only-of-type {\n",
       "        vertical-align: middle;\n",
       "    }\n",
       "\n",
       "    .dataframe tbody tr th {\n",
       "        vertical-align: top;\n",
       "    }\n",
       "\n",
       "    .dataframe thead th {\n",
       "        text-align: right;\n",
       "    }\n",
       "</style>\n",
       "<table border=\"1\" class=\"dataframe\">\n",
       "  <thead>\n",
       "    <tr style=\"text-align: right;\">\n",
       "      <th></th>\n",
       "      <th>age</th>\n",
       "      <th>balance</th>\n",
       "      <th>duration</th>\n",
       "      <th>pdays</th>\n",
       "      <th>previous</th>\n",
       "    </tr>\n",
       "  </thead>\n",
       "  <tbody>\n",
       "    <tr>\n",
       "      <td>count</td>\n",
       "      <td>11162.000000</td>\n",
       "      <td>11162.000000</td>\n",
       "      <td>11162.000000</td>\n",
       "      <td>11162.000000</td>\n",
       "      <td>11162.000000</td>\n",
       "    </tr>\n",
       "    <tr>\n",
       "      <td>mean</td>\n",
       "      <td>41.231948</td>\n",
       "      <td>1528.538524</td>\n",
       "      <td>371.993818</td>\n",
       "      <td>51.330407</td>\n",
       "      <td>0.832557</td>\n",
       "    </tr>\n",
       "    <tr>\n",
       "      <td>std</td>\n",
       "      <td>11.913369</td>\n",
       "      <td>3225.413326</td>\n",
       "      <td>347.128386</td>\n",
       "      <td>108.758282</td>\n",
       "      <td>2.292007</td>\n",
       "    </tr>\n",
       "    <tr>\n",
       "      <td>min</td>\n",
       "      <td>18.000000</td>\n",
       "      <td>-6847.000000</td>\n",
       "      <td>2.000000</td>\n",
       "      <td>-1.000000</td>\n",
       "      <td>0.000000</td>\n",
       "    </tr>\n",
       "    <tr>\n",
       "      <td>25%</td>\n",
       "      <td>32.000000</td>\n",
       "      <td>122.000000</td>\n",
       "      <td>138.000000</td>\n",
       "      <td>-1.000000</td>\n",
       "      <td>0.000000</td>\n",
       "    </tr>\n",
       "    <tr>\n",
       "      <td>50%</td>\n",
       "      <td>39.000000</td>\n",
       "      <td>550.000000</td>\n",
       "      <td>255.000000</td>\n",
       "      <td>-1.000000</td>\n",
       "      <td>0.000000</td>\n",
       "    </tr>\n",
       "    <tr>\n",
       "      <td>75%</td>\n",
       "      <td>49.000000</td>\n",
       "      <td>1708.000000</td>\n",
       "      <td>496.000000</td>\n",
       "      <td>20.750000</td>\n",
       "      <td>1.000000</td>\n",
       "    </tr>\n",
       "    <tr>\n",
       "      <td>max</td>\n",
       "      <td>95.000000</td>\n",
       "      <td>81204.000000</td>\n",
       "      <td>3881.000000</td>\n",
       "      <td>854.000000</td>\n",
       "      <td>58.000000</td>\n",
       "    </tr>\n",
       "  </tbody>\n",
       "</table>\n",
       "</div>"
      ],
      "text/plain": [
       "                age       balance      duration         pdays      previous\n",
       "count  11162.000000  11162.000000  11162.000000  11162.000000  11162.000000\n",
       "mean      41.231948   1528.538524    371.993818     51.330407      0.832557\n",
       "std       11.913369   3225.413326    347.128386    108.758282      2.292007\n",
       "min       18.000000  -6847.000000      2.000000     -1.000000      0.000000\n",
       "25%       32.000000    122.000000    138.000000     -1.000000      0.000000\n",
       "50%       39.000000    550.000000    255.000000     -1.000000      0.000000\n",
       "75%       49.000000   1708.000000    496.000000     20.750000      1.000000\n",
       "max       95.000000  81204.000000   3881.000000    854.000000     58.000000"
      ]
     },
     "execution_count": 9,
     "metadata": {},
     "output_type": "execute_result"
    }
   ],
   "source": [
    "dataset[['age', 'balance', 'duration', 'pdays', 'previous']].describe()"
   ]
  },
  {
   "cell_type": "markdown",
   "metadata": {},
   "source": [
    "#### Ringkasan:\n",
    "\n",
    "Age:\n",
    "\n",
    "* Variabel age memiliki rata-rata sebesar 41.231948. Artinya, rata-rata umur customer yang dilakukan campaign adalah 41.231948.\n",
    "* Variable age memiliki nilai median di 39.000000. Artinya, umur customer yang dilakukan campaign berpusat di 39.000000.\n",
    "* Variabel age memiliki standar deviasi sebesar 11.913369, sehingga memiliki variansi sebesar 141.92836093. Artinya, Penyebaran umur customer yang dilakukan campaign menyebar sebesar 141.92836093 dari rata rata umur customer. Lalu, karena nilai standar deviasi < mean maka dapat disimpulkan bahwa nilai mean representasi yang baik dari keseluruhan data.\n",
    "\n",
    "Balance:\n",
    "* Variable balance memiliki rata-rata sebesar 1528.538524. Artinya, rata-rata simpanan uang customer adalah 1528.538524\n",
    "* Variable balance memilki nilai median di 550.000000. Artinya simpanan seluruh customer yang dilakukan campaign berpusat di 550.000000.\n",
    "* Variable balance memiliki standard deviasi sebesar 3225.413326, sehingga memiliki variansi 10403291.1235. Artinya penyebaran simpanan uang customer yang dilakukan campaign sebesar 10403291.1235 dari rata-rata simpanan uang customer. Lalu, karena nilai standar deviasi > mean maka dapat disimplkan bahwa nilai mean representasi yang buruk dari keseluruhan data.\n",
    "\n",
    "Duration:\n",
    "* Variable duration memiliki rata-rata sebesar 371.993818. Artinya, rata-rata duration dilakukan campaign terhadap customer adalah 371.993818 detik atau sekitar 6 menit 2 detik.\n",
    "* Variable duration memiliki nilai median di 255.000000. Artinya, duration ketika dilakukan campaign terhadap customer berpusat di 255.000000 detik atau 4 menit 25 detik.\n",
    "* Variable duration memiliki standard deviasi sebesar 347.128386, sehingga memiliki variansi 120498.116367. Artinya penyebaran duration ketika dilakukan campaign sebesar 120498.116367 dari rata-rata duration ketika dilakukan campaign. Lalu, karena nilai standar deviasi < mean maka dapat disimplkan bahwa nilai mean representasi yang baik dari keseluruhan data."
   ]
  },
  {
   "cell_type": "markdown",
   "metadata": {},
   "source": [
    "## Data Understanding Univariate Analysis"
   ]
  },
  {
   "cell_type": "markdown",
   "metadata": {},
   "source": [
    "### Categorical EDA"
   ]
  },
  {
   "cell_type": "code",
   "execution_count": 10,
   "metadata": {},
   "outputs": [
    {
     "data": {
      "image/png": "[encoded data removed]",
      "text/plain": [
       "<Figure size 432x288 with 1 Axes>"
      ]
     },
     "metadata": {
      "needs_background": "light"
     },
     "output_type": "display_data"
    },
    {
     "data": {
      "text/plain": [
       "no     5873\n",
       "yes    5289\n",
       "Name: response, dtype: int64"
      ]
     },
     "execution_count": 10,
     "metadata": {},
     "output_type": "execute_result"
    }
   ],
   "source": [
    "##Check Distribution of Target\n",
    "plt.clf()\n",
    "dataset['response'].value_counts().sort_values(ascending=False).plot(kind='bar', color=['red', 'green'])\n",
    "plt.title('Distribution of target', loc='center', pad=30, fontsize=15, color='blue')\n",
    "plt.xlabel('Target', fontsize = 15)\n",
    "plt.ylabel('Total', fontsize = 15)\n",
    "plt.grid(color='gray', linestyle=':', linewidth=0.5)\n",
    "plt.ylim(ymin=0)\n",
    "labels, locations = plt.yticks()\n",
    "plt.xticks(rotation=45)\n",
    "plt.show()\n",
    "\n",
    "dataset['response'].value_counts()"
   ]
  },
  {
   "cell_type": "markdown",
   "metadata": {},
   "source": [
    "Terlihat bahwa lebih dominan untuk meresponse tidak, dan target dari dataset tidak seimbang"
   ]
  },
  {
   "cell_type": "code",
   "execution_count": 11,
   "metadata": {},
   "outputs": [
    {
     "data": {
      "image/png": "[encoded data removed]",
      "text/plain": [
       "<Figure size 432x288 with 1 Axes>"
      ]
     },
     "metadata": {
      "needs_background": "light"
     },
     "output_type": "display_data"
    }
   ],
   "source": [
    "##Check Distribution of Job\n",
    "plt.clf()\n",
    "dataset['job'].value_counts().sort_values(ascending=False).plot(kind='bar', color = ['blue', 'blue', 'blue', 'blue', 'blue', 'gray', 'gray', 'gray', 'gray', 'gray', 'gray', 'gray'])\n",
    "plt.title('Distribution of Job', loc='center', pad=30, fontsize=15, color='blue')\n",
    "plt.xlabel('Job', fontsize = 15)\n",
    "plt.ylabel('Total', fontsize = 15)\n",
    "plt.grid(color='gray', linestyle=':', linewidth=0.5)\n",
    "plt.ylim(ymin=0)\n",
    "labels, locations = plt.yticks()\n",
    "plt.xticks(rotation=45)\n",
    "plt.show()"
   ]
  },
  {
   "cell_type": "markdown",
   "metadata": {},
   "source": [
    "* Terlihat yang lebih mendominan adala tipe pekerja di suatu perusahaan.\n",
    "* Variable ini bisa dibuat dummies"
   ]
  },
  {
   "cell_type": "code",
   "execution_count": 12,
   "metadata": {},
   "outputs": [
    {
     "data": {
      "image/png": "[encoded data removed]",
      "text/plain": [
       "<Figure size 432x288 with 1 Axes>"
      ]
     },
     "metadata": {
      "needs_background": "light"
     },
     "output_type": "display_data"
    }
   ],
   "source": [
    "##Check Distribution of marital\n",
    "plt.clf()\n",
    "dataset['marital'].value_counts().sort_values(ascending=False).plot(kind='bar', color = ['blue', 'orange', 'red'])\n",
    "plt.title('Distribution of Marital', loc='center', pad=30, fontsize=15, color='blue')\n",
    "plt.xlabel('Marital', fontsize = 15)\n",
    "plt.ylabel('Total', fontsize = 15)\n",
    "plt.grid(color='gray', linestyle=':', linewidth=0.5)\n",
    "plt.ylim(ymin=0)\n",
    "labels, locations = plt.yticks()\n",
    "plt.xticks(rotation=45)\n",
    "plt.show()"
   ]
  },
  {
   "cell_type": "markdown",
   "metadata": {},
   "source": [
    "* Terlihat status perkawinan yang lebih mendominan adalah tipe married.\n",
    "* Variable ini bisa dibuat dummies"
   ]
  },
  {
   "cell_type": "code",
   "execution_count": 13,
   "metadata": {},
   "outputs": [
    {
     "data": {
      "image/png": "[encoded data removed]",
      "text/plain": [
       "<Figure size 432x288 with 1 Axes>"
      ]
     },
     "metadata": {
      "needs_background": "light"
     },
     "output_type": "display_data"
    }
   ],
   "source": [
    "##Check Distribution of Education\n",
    "plt.clf()\n",
    "dataset['education'].value_counts().sort_values(ascending=False).plot(kind='bar', color = ['blue', 'gray', 'gray', 'gray'])\n",
    "plt.title('Distribution of Education', loc='center', pad=30, fontsize=15, color='blue')\n",
    "plt.xlabel('Education', fontsize = 15)\n",
    "plt.ylabel('Total', fontsize = 15)\n",
    "plt.grid(color='gray', linestyle=':', linewidth=0.5)\n",
    "plt.ylim(ymin=0)\n",
    "labels, locations = plt.yticks()\n",
    "plt.xticks(rotation=45)\n",
    "plt.show()"
   ]
  },
  {
   "cell_type": "markdown",
   "metadata": {},
   "source": [
    "* Terlihat bahwa jenis education yang mendominasi adalah jenis education secondary\n",
    "* Variable ini bisa dibuat dummies"
   ]
  },
  {
   "cell_type": "code",
   "execution_count": 14,
   "metadata": {},
   "outputs": [
    {
     "data": {
      "image/png": "[encoded data removed]",
      "text/plain": [
       "<Figure size 432x288 with 1 Axes>"
      ]
     },
     "metadata": {
      "needs_background": "light"
     },
     "output_type": "display_data"
    }
   ],
   "source": [
    "##Check Distribution of Contact\n",
    "plt.clf()\n",
    "dataset['contact'].value_counts().sort_values(ascending=False).plot(kind='bar', color = ['blue', 'gray', 'gray'])\n",
    "plt.title('Distribution of contact', loc='center', pad=30, fontsize=15, color='blue')\n",
    "plt.xlabel('Contact', fontsize = 15)\n",
    "plt.ylabel('Total', fontsize = 15)\n",
    "plt.grid(color='gray', linestyle=':', linewidth=0.5)\n",
    "plt.ylim(ymin=0)\n",
    "labels, locations = plt.yticks()\n",
    "plt.xticks(rotation=45)\n",
    "plt.show()"
   ]
  },
  {
   "cell_type": "markdown",
   "metadata": {},
   "source": [
    "* Terlihat bahwa jenis cellular yang mendominasi\n",
    "* Variable ini bisa dibuat dummies"
   ]
  },
  {
   "cell_type": "code",
   "execution_count": 15,
   "metadata": {},
   "outputs": [
    {
     "data": {
      "image/png": "[encoded data removed]",
      "text/plain": [
       "<Figure size 1440x432 with 3 Axes>"
      ]
     },
     "metadata": {},
     "output_type": "display_data"
    }
   ],
   "source": [
    "## Distribution of Default, Housing and loan\n",
    "cols = ['defaults', 'housing', 'loan']\n",
    "fig, axarr = plt.subplots(1, 3, figsize=(20, 6))\n",
    "for i in cols:\n",
    "    index = cols.index(i)\n",
    "    variabel = dataset[i].value_counts()\n",
    "    plt.subplot(1, 3, index + 1)\n",
    "    plt.pie(\n",
    "            variabel, \n",
    "            labels=['No', 'Yes'], \n",
    "            autopct='%.0f%%',\n",
    "            shadow = True, \n",
    "            wedgeprops = {'linewidth' : 0.5, 'edgecolor' : \"red\"},\n",
    "            colors=('blue', 'gray')\n",
    "    )\n",
    "    plt.title(i, fontsize=20, color='blue')"
   ]
  },
  {
   "cell_type": "markdown",
   "metadata": {},
   "source": [
    "* Berdasarkan grafik di atas kita ketahui bahwa customer secara default tidak memiliki kredit.\n",
    "* Perbandingan antara customer memiliki pinjaman rumah atau tidak cukup seimbang\n",
    "* Kemudian, perbandingan antara customer memiliki pinjaman atau tidak, lebih dominan customer yang tidak memiliki pinjaman."
   ]
  },
  {
   "cell_type": "markdown",
   "metadata": {},
   "source": [
    "### Numerical EDA"
   ]
  },
  {
   "cell_type": "code",
   "execution_count": 16,
   "metadata": {},
   "outputs": [
    {
     "data": {
      "image/png": "[encoded data removed]",
      "text/plain": [
       "<Figure size 1080x432 with 3 Axes>"
      ]
     },
     "metadata": {
      "needs_background": "light"
     },
     "output_type": "display_data"
    }
   ],
   "source": [
    "numerical_features = ['age', 'balance', 'duration']\n",
    "\n",
    "fig, ax = plt.subplots(1, 3, figsize=(15, 6))\n",
    "# Use the following code to plot two overlays of histogram per each numerical_features, use a color of blue and orange, respectively\n",
    "dataset[numerical_features].hist(bins=20, color = 'Blue', alpha=0.5, ax=ax)\n",
    "plt.show()"
   ]
  },
  {
   "cell_type": "markdown",
   "metadata": {},
   "source": [
    "* Terlihat bahwa density dari umur berada dalam interval 25 sampai 70 tahun.\n",
    "* Terlihat bahwa density dari balance adalah kurang dari 15000.\n",
    "* Terlihat bahwa density dari duration adalah kurang dari 1000 detik."
   ]
  },
  {
   "cell_type": "code",
   "execution_count": 17,
   "metadata": {},
   "outputs": [
    {
     "data": {
      "image/png": "[encoded data removed]",
      "text/plain": [
       "<Figure size 1080x432 with 2 Axes>"
      ]
     },
     "metadata": {
      "needs_background": "light"
     },
     "output_type": "display_data"
    }
   ],
   "source": [
    "numerical_features = ['pdays', 'previous']\n",
    "\n",
    "fig, ax = plt.subplots(1, 2, figsize=(15, 6))\n",
    "# Use the following code to plot two overlays of histogram per each numerical_features, use a color of blue and orange, respectively\n",
    "dataset[numerical_features].hist(bins=20, color = 'Blue', alpha=0.5, ax=ax)\n",
    "plt.show()"
   ]
  },
  {
   "cell_type": "markdown",
   "metadata": {},
   "source": [
    "## Data Understanding Bivariate Analysis"
   ]
  },
  {
   "cell_type": "code",
   "execution_count": 18,
   "metadata": {},
   "outputs": [
    {
     "data": {
      "image/png": "[encoded data removed]",
      "text/plain": [
       "<Figure size 1080x432 with 3 Axes>"
      ]
     },
     "metadata": {
      "needs_background": "light"
     },
     "output_type": "display_data"
    }
   ],
   "source": [
    "numerical_features = ['age', 'balance', 'duration']\n",
    "\n",
    "fig, ax = plt.subplots(1, 3, figsize=(15, 6))\n",
    "# Use the following code to plot two overlays of histogram per each numerical_features, use a color of blue and orange, respectively\n",
    "dataset[dataset.response == 'no'][numerical_features].hist(bins=20, color = 'orangered', alpha=0.5, ax=ax)\n",
    "dataset[dataset.response == 'yes'][numerical_features].hist(bins=20, color = 'blue', alpha=0.5, ax=ax)\n",
    "plt.show()"
   ]
  },
  {
   "cell_type": "markdown",
   "metadata": {},
   "source": [
    "* Terlihat bahwa pada umur seorang customer tidak ada kecenderungan appaun dalam response campaign.\n",
    "* Terlihat bahwa distribusi dari balace tidak ada kecenderungan apapun dalam response campaign.\n",
    "* Terlihat bahwa semakin kecil duration melakukan campaign, maka semakin besar kemungkinan untuk menolak marketing campaign."
   ]
  },
  {
   "cell_type": "code",
   "execution_count": 19,
   "metadata": {},
   "outputs": [
    {
     "name": "stdout",
     "output_type": "stream",
     "text": [
      "Proporsi Job\n",
      "                               job\n",
      "job           response           \n",
      "admin.        no        52.698651\n",
      "              yes       47.301349\n",
      "blue-collar   no        63.580247\n",
      "              yes       36.419753\n",
      "entrepreneur  no        62.500000\n",
      "              yes       37.500000\n",
      "housemaid     no        60.218978\n",
      "              yes       39.781022\n",
      "management    no        49.298519\n",
      "              yes       50.701481\n",
      "retired       no        33.676093\n",
      "              yes       66.323907\n",
      "self-employed no        53.827160\n",
      "              yes       46.172840\n",
      "services      no        60.021668\n",
      "              yes       39.978332\n",
      "student       no        25.277778\n",
      "              yes       74.722222\n",
      "technician    no        53.922106\n",
      "              yes       46.077894\n",
      "unemployed    no        43.417367\n",
      "              yes       56.582633\n",
      "unknown       no        51.428571\n",
      "              yes       48.571429\n",
      "Proporsi Marital\n",
      "                      marital\n",
      "marital  response           \n",
      "divorced no        51.894818\n",
      "         yes       48.105182\n",
      "married  no        56.621005\n",
      "         yes       43.378995\n",
      "single   no        45.650938\n",
      "         yes       54.349062\n",
      "Proporsi Education\n",
      "                     education\n",
      "education response           \n",
      "primary   no        60.600000\n",
      "          yes       39.400000\n",
      "secondary no        55.259313\n",
      "          yes       44.740687\n",
      "tertiary  no        45.893196\n",
      "          yes       54.106804\n",
      "unknown   no        49.295775\n",
      "          yes       50.704225\n"
     ]
    }
   ],
   "source": [
    "proportion_job = dataset.groupby(['job', 'response']).agg({'job': 'count'})\n",
    "proportion_job= proportion_job.groupby(level=0).apply(lambda x: 100 * x / float(x.sum()))\n",
    "\n",
    "proportion_marital = dataset.groupby(['marital', 'response']).agg({'marital': 'count'})\n",
    "proportion_marital = proportion_marital.groupby(level=0).apply(lambda x: 100 * x / float(x.sum()))\n",
    "\n",
    "proportion_education = dataset.groupby(['education', 'response']).agg({'education': 'count'})\n",
    "proportion_education = proportion_education.groupby(level=0).apply(lambda x: 100 * x / float(x.sum()))\n",
    "\n",
    "print (\"Proporsi Job\\n\",proportion_job)\n",
    "print (\"Proporsi Marital\\n\",proportion_marital)\n",
    "print (\"Proporsi Education\\n\",proportion_education)"
   ]
  },
  {
   "cell_type": "code",
   "execution_count": 20,
   "metadata": {
    "scrolled": true
   },
   "outputs": [
    {
     "data": {
      "image/png": "[encoded data removed]",
      "text/plain": [
       "<Figure size 1440x432 with 3 Axes>"
      ]
     },
     "metadata": {
      "needs_background": "light"
     },
     "output_type": "display_data"
    }
   ],
   "source": [
    "cols = ['job', 'marital', 'education']\n",
    "fig, axarr = plt.subplots(1, 3, figsize=(20, 6))\n",
    "for i in cols:\n",
    "    index = cols.index(i)\n",
    "    ax = plt.subplot(1, 3, index + 1)\n",
    "    data = dataset.groupby(i)['response'].value_counts().sort_values(ascending=False).unstack()\n",
    "    data.plot(ax=ax, kind='barh',stacked=True, colors=['red', 'blue'])\n",
    "    plt.ylabel(i, fontsize= 12)"
   ]
  },
  {
   "cell_type": "markdown",
   "metadata": {},
   "source": [
    "* Berdasarkan hasil EDA di atas walaupun jenis pekerjaan management lebih banyak yang dilakukan campaign, tertapi proporsi campaign akan cenderung berhasil pada pekerjaan pelajar, dan para pensiunan.\n",
    "* Berdasarkan hasil EDA diatas walaupun status perkawianan menikah lebih banyak yang dilakukan campaign, tetapi proporsi campaign akan cenderung berhasil pada status perkawinan single.\n",
    "* Berdasarkan hasil EDA diatas walaupun jenis pendidikan secondary lebih banyak yang dilakukan campaign, tetapi proporsi campaign akan cenderung berhasil pada status perkawinan teritary."
   ]
  },
  {
   "cell_type": "code",
   "execution_count": 21,
   "metadata": {},
   "outputs": [
    {
     "name": "stdout",
     "output_type": "stream",
     "text": [
      "Proporsi defaults\n",
      "                     defaults\n",
      "defaults response           \n",
      "no       no        52.364926\n",
      "         yes       47.635074\n",
      "yes      no        69.047619\n",
      "         yes       30.952381\n",
      "Proporsi housing\n",
      "                     housing\n",
      "housing response           \n",
      "no      no        42.968883\n",
      "        yes       57.031117\n",
      "yes     no        63.359212\n",
      "        yes       36.640788\n",
      "Proporsi loan\n",
      "                     loan\n",
      "loan response           \n",
      "no   no        50.474129\n",
      "     yes       49.525871\n",
      "yes  no        66.849315\n",
      "     yes       33.150685\n"
     ]
    }
   ],
   "source": [
    "proportion_defaults = dataset.groupby(['defaults', 'response']).agg({'defaults': 'count'})\n",
    "proportion_defaults= proportion_defaults.groupby(level=0).apply(lambda x: 100 * x / float(x.sum()))\n",
    "\n",
    "proportion_housing = dataset.groupby(['housing', 'response']).agg({'housing': 'count'})\n",
    "proportion_housing = proportion_housing.groupby(level=0).apply(lambda x: 100 * x / float(x.sum()))\n",
    "\n",
    "proportion_loan = dataset.groupby(['loan', 'response']).agg({'loan': 'count'})\n",
    "proportion_loan = proportion_loan.groupby(level=0).apply(lambda x: 100 * x / float(x.sum()))\n",
    "\n",
    "print (\"Proporsi defaults\\n\",proportion_defaults)\n",
    "print (\"Proporsi housing\\n\",proportion_housing)\n",
    "print (\"Proporsi loan\\n\",proportion_loan)"
   ]
  },
  {
   "cell_type": "code",
   "execution_count": 22,
   "metadata": {},
   "outputs": [
    {
     "data": {
      "image/png": "[encoded data removed]",
      "text/plain": [
       "<Figure size 1440x432 with 3 Axes>"
      ]
     },
     "metadata": {
      "needs_background": "light"
     },
     "output_type": "display_data"
    }
   ],
   "source": [
    "cols = ['defaults', 'housing', 'loan']\n",
    "fig, axarr = plt.subplots(1, 3, figsize=(20, 6))\n",
    "for i in cols:\n",
    "    index = cols.index(i)\n",
    "    ax = plt.subplot(1, 3, index + 1)\n",
    "    data = dataset.groupby(i)['response'].value_counts().sort_values(ascending=False).unstack()\n",
    "    data.plot(ax=ax, kind='barh',stacked=True, colors=['red', 'blue'])\n",
    "    plt.title(i, fontsize = 14, color='blue')"
   ]
  },
  {
   "cell_type": "markdown",
   "metadata": {},
   "source": [
    "* Terlihat bahwa customer yang memiliki kredit kemungkinan besar akan menolak campaign, sehingga tidak disarankan melakukan campaign pada customer yang memiliki kredit.\n",
    "* Terlihat bahwa customer yang memiliki pinjaman rumah lebih dominan menolak campaign, dan campaign terbanyak diterima jika customer tidak memiliki pinjaman rumah sehingga ada kemungkinan yang lebih besar campaign akan diterima jika campaign dilakukan pada customer yang tidak memiliki pinjaman rumah.\n",
    "* Terlihat bahwa customer yang tidak memiliki pinjaman lebih dominan menolak campaign, namun campaign terbanyak diterima pada customer yang tidak memiliki campaign. Sehingga ada kemungkinan yang lebih besar campaign akan diterima jika campaign dilakukan pada customer yang tidak memiliki pinjaman."
   ]
  },
  {
   "cell_type": "code",
   "execution_count": 23,
   "metadata": {},
   "outputs": [
    {
     "name": "stdout",
     "output_type": "stream",
     "text": [
      "Proporsi Contact\n",
      "                       contact\n",
      "contact   response           \n",
      "cellular  no        45.672718\n",
      "          yes       54.327282\n",
      "telephone no        49.612403\n",
      "          yes       50.387597\n",
      "unknown   no        77.408355\n",
      "          yes       22.591645\n",
      "Proporsi Poutcome\n",
      "                     poutcome\n",
      "poutcome response           \n",
      "failure  no        49.674267\n",
      "         yes       50.325733\n",
      "other    no        42.830540\n",
      "         yes       57.169460\n",
      "success  no         8.683473\n",
      "         yes       91.316527\n",
      "unknown  no        59.332212\n",
      "         yes       40.667788\n"
     ]
    }
   ],
   "source": [
    "proportion_contact = dataset.groupby(['contact', 'response']).agg({'contact': 'count'})\n",
    "proportion_contact= proportion_contact.groupby(level=0).apply(lambda x: 100 * x / float(x.sum()))\n",
    "\n",
    "proportion_poutcome = dataset.groupby(['poutcome', 'response']).agg({'poutcome': 'count'})\n",
    "proportion_poutcome = proportion_poutcome.groupby(level=0).apply(lambda x: 100 * x / float(x.sum()))\n",
    "\n",
    "print (\"Proporsi Contact\\n\",proportion_contact)\n",
    "print (\"Proporsi Poutcome\\n\",proportion_poutcome)"
   ]
  },
  {
   "cell_type": "code",
   "execution_count": 24,
   "metadata": {},
   "outputs": [
    {
     "data": {
      "image/png": "[encoded data removed]",
      "text/plain": [
       "<Figure size 1440x432 with 2 Axes>"
      ]
     },
     "metadata": {
      "needs_background": "light"
     },
     "output_type": "display_data"
    }
   ],
   "source": [
    "cols = ['contact', 'poutcome']\n",
    "fig, axarr = plt.subplots(1, 2, figsize=(20, 6))\n",
    "for i in cols:\n",
    "    index = cols.index(i)\n",
    "    ax = plt.subplot(1, 2, index + 1)\n",
    "    data = dataset.groupby(i)['response'].value_counts().sort_values(ascending=False).unstack()\n",
    "    data.plot(ax=ax, kind='barh',stacked=True, colors=['red', 'blue'])\n",
    "    plt.title(i, fontsize = 14, color='blue')"
   ]
  },
  {
   "cell_type": "markdown",
   "metadata": {},
   "source": [
    "* Terlihat bahwa jenis media cellular ada kemungkinan yang lebih besar campaign akan di terima.\n",
    "* Terlihat bahwa jika hasil campaign sebelumnya berhasil maka, hasil response selanjutnya kemungkinan juga berhasil."
   ]
  },
  {
   "cell_type": "code",
   "execution_count": 25,
   "metadata": {},
   "outputs": [
    {
     "name": "stdout",
     "output_type": "stream",
     "text": [
      "Proporsi day\n",
      "                     day\n",
      "day response           \n",
      "1   no        26.229508\n",
      "    yes       73.770492\n",
      "2   no        45.508982\n",
      "    yes       54.491018\n",
      "3   no        41.830065\n",
      "    yes       58.169935\n",
      "4   no        42.786070\n",
      "    yes       57.213930\n",
      "5   no        54.926625\n",
      "    yes       45.073375\n",
      "6   no        59.507830\n",
      "    yes       40.492170\n",
      "7   no        58.900524\n",
      "    yes       41.099476\n",
      "8   no        52.028640\n",
      "    yes       47.971360\n",
      "9   no        50.824176\n",
      "    yes       49.175824\n",
      "10  no        25.766871\n",
      "    yes       74.233129\n",
      "11  no        51.474531\n",
      "    yes       48.525469\n",
      "12  no        45.168539\n",
      "    yes       54.831461\n",
      "13  no        46.799117\n",
      "    yes       53.200883\n",
      "14  no        54.643629\n",
      "    yes       45.356371\n",
      "15  no        48.927039\n",
      "    yes       51.072961\n",
      "16  no        47.967480\n",
      "    yes       52.032520\n",
      "17  no        57.177616\n",
      "    yes       42.822384\n",
      "18  no        58.394161\n",
      "    yes       41.605839\n",
      "19  no        68.229167\n",
      "    yes       31.770833\n",
      "20  no        66.315789\n",
      "    yes       33.684211\n",
      "21  no        55.530973\n",
      "    yes       44.469027\n",
      "22  no        42.750929\n",
      "    yes       57.249071\n",
      "23  no        48.571429\n",
      "    yes       51.428571\n",
      "24  no        49.180328\n",
      "    yes       50.819672\n",
      "25  no        40.625000\n",
      "    yes       59.375000\n",
      "26  no        53.968254\n",
      "    yes       46.031746\n",
      "27  no        47.183099\n",
      "    yes       52.816901\n",
      "28  no        65.121951\n",
      "    yes       34.878049\n",
      "29  no        66.752577\n",
      "    yes       33.247423\n",
      "30  no        43.305439\n",
      "    yes       56.694561\n",
      "31  no        67.142857\n",
      "    yes       32.857143\n",
      "Proporsi month\n",
      "                     month\n",
      "month response           \n",
      "apr   no        37.486457\n",
      "      yes       62.513543\n",
      "aug   no        54.707044\n",
      "      yes       45.292956\n",
      "dec   no         9.090909\n",
      "      yes       90.909091\n",
      "feb   no        43.170103\n",
      "      yes       56.829897\n",
      "jan   no        58.720930\n",
      "      yes       41.279070\n",
      "jul   no        58.586526\n",
      "      yes       41.413474\n",
      "jun   no        55.319149\n",
      "      yes       44.680851\n",
      "mar   no        10.144928\n",
      "      yes       89.855072\n",
      "may   no        67.245042\n",
      "      yes       32.754958\n",
      "nov   no        57.264051\n",
      "      yes       42.735949\n",
      "oct   no        17.602041\n",
      "      yes       82.397959\n",
      "sep   no        15.673981\n",
      "      yes       84.326019\n"
     ]
    }
   ],
   "source": [
    "proportion_day = dataset.groupby(['day', 'response']).agg({'day': 'count'})\n",
    "proportion_day= proportion_day.groupby(level=0).apply(lambda x: 100 * x / float(x.sum()))\n",
    "\n",
    "proportion_month = dataset.groupby(['month', 'response']).agg({'month': 'count'})\n",
    "proportion_month = proportion_month.groupby(level=0).apply(lambda x: 100 * x / float(x.sum()))\n",
    "\n",
    "print (\"Proporsi day\\n\",proportion_day)\n",
    "print (\"Proporsi month\\n\",proportion_month)"
   ]
  },
  {
   "cell_type": "code",
   "execution_count": 26,
   "metadata": {},
   "outputs": [
    {
     "data": {
      "image/png": "[encoded data removed]",
      "text/plain": [
       "<Figure size 1440x432 with 2 Axes>"
      ]
     },
     "metadata": {
      "needs_background": "light"
     },
     "output_type": "display_data"
    }
   ],
   "source": [
    "cols = ['day', 'month']\n",
    "fig, axarr = plt.subplots(1, 2, figsize=(20, 6))\n",
    "for i in cols:\n",
    "    index = cols.index(i)\n",
    "    ax = plt.subplot(1, 2, index + 1)\n",
    "    data = dataset.groupby(i)['response'].value_counts().sort_values(ascending=False).unstack()\n",
    "    data.plot(ax=ax, kind='barh',stacked=True, colors=['red', 'blue'])\n",
    "    plt.title(i, fontsize = 14, color='blue')"
   ]
  },
  {
   "cell_type": "markdown",
   "metadata": {},
   "source": [
    "* Terlihat bahwa campaign pada awal-awal bulan campaign akan cenderung diterima dibandingkan pada pertengahan bulan ke atas.\n",
    "* Terlihat bahwa walaupun campaign sering di lakukan pada bulan may, namun tidak efektif. Campaign akan lebih efektif dilakukan pada bulan desember dan maret."
   ]
  },
  {
   "cell_type": "markdown",
   "metadata": {},
   "source": [
    "## Feature Engineering"
   ]
  },
  {
   "cell_type": "code",
   "execution_count": 27,
   "metadata": {},
   "outputs": [],
   "source": [
    "from sklearn.preprocessing import LabelEncoder\n",
    "\n",
    "le = LabelEncoder()\n",
    "cols = ['defaults', 'housing', 'loan', 'response']\n",
    "\n",
    "for subscript in cols:\n",
    "    dataset[subscript] = le.fit_transform(dataset[subscript]);"
   ]
  },
  {
   "cell_type": "code",
   "execution_count": 28,
   "metadata": {},
   "outputs": [
    {
     "data": {
      "text/html": [
       "<div>\n",
       "<style scoped>\n",
       "    .dataframe tbody tr th:only-of-type {\n",
       "        vertical-align: middle;\n",
       "    }\n",
       "\n",
       "    .dataframe tbody tr th {\n",
       "        vertical-align: top;\n",
       "    }\n",
       "\n",
       "    .dataframe thead th {\n",
       "        text-align: right;\n",
       "    }\n",
       "</style>\n",
       "<table border=\"1\" class=\"dataframe\">\n",
       "  <thead>\n",
       "    <tr style=\"text-align: right;\">\n",
       "      <th></th>\n",
       "      <th>age</th>\n",
       "      <th>job</th>\n",
       "      <th>marital</th>\n",
       "      <th>education</th>\n",
       "      <th>defaults</th>\n",
       "      <th>balance</th>\n",
       "      <th>housing</th>\n",
       "      <th>loan</th>\n",
       "      <th>contact</th>\n",
       "      <th>day</th>\n",
       "      <th>month</th>\n",
       "      <th>duration</th>\n",
       "      <th>campaign</th>\n",
       "      <th>pdays</th>\n",
       "      <th>previous</th>\n",
       "      <th>poutcome</th>\n",
       "      <th>response</th>\n",
       "    </tr>\n",
       "  </thead>\n",
       "  <tbody>\n",
       "    <tr>\n",
       "      <td>0</td>\n",
       "      <td>59</td>\n",
       "      <td>admin.</td>\n",
       "      <td>married</td>\n",
       "      <td>secondary</td>\n",
       "      <td>0</td>\n",
       "      <td>2343</td>\n",
       "      <td>1</td>\n",
       "      <td>0</td>\n",
       "      <td>unknown</td>\n",
       "      <td>5</td>\n",
       "      <td>may</td>\n",
       "      <td>1042</td>\n",
       "      <td>1</td>\n",
       "      <td>-1</td>\n",
       "      <td>0</td>\n",
       "      <td>unknown</td>\n",
       "      <td>1</td>\n",
       "    </tr>\n",
       "    <tr>\n",
       "      <td>1</td>\n",
       "      <td>56</td>\n",
       "      <td>admin.</td>\n",
       "      <td>married</td>\n",
       "      <td>secondary</td>\n",
       "      <td>0</td>\n",
       "      <td>45</td>\n",
       "      <td>0</td>\n",
       "      <td>0</td>\n",
       "      <td>unknown</td>\n",
       "      <td>5</td>\n",
       "      <td>may</td>\n",
       "      <td>1467</td>\n",
       "      <td>1</td>\n",
       "      <td>-1</td>\n",
       "      <td>0</td>\n",
       "      <td>unknown</td>\n",
       "      <td>1</td>\n",
       "    </tr>\n",
       "    <tr>\n",
       "      <td>2</td>\n",
       "      <td>41</td>\n",
       "      <td>technician</td>\n",
       "      <td>married</td>\n",
       "      <td>secondary</td>\n",
       "      <td>0</td>\n",
       "      <td>1270</td>\n",
       "      <td>1</td>\n",
       "      <td>0</td>\n",
       "      <td>unknown</td>\n",
       "      <td>5</td>\n",
       "      <td>may</td>\n",
       "      <td>1389</td>\n",
       "      <td>1</td>\n",
       "      <td>-1</td>\n",
       "      <td>0</td>\n",
       "      <td>unknown</td>\n",
       "      <td>1</td>\n",
       "    </tr>\n",
       "  </tbody>\n",
       "</table>\n",
       "</div>"
      ],
      "text/plain": [
       "   age         job  marital  education  defaults  balance  housing  loan  \\\n",
       "0   59      admin.  married  secondary         0     2343        1     0   \n",
       "1   56      admin.  married  secondary         0       45        0     0   \n",
       "2   41  technician  married  secondary         0     1270        1     0   \n",
       "\n",
       "   contact  day month  duration  campaign  pdays  previous poutcome  response  \n",
       "0  unknown    5   may      1042         1     -1         0  unknown         1  \n",
       "1  unknown    5   may      1467         1     -1         0  unknown         1  \n",
       "2  unknown    5   may      1389         1     -1         0  unknown         1  "
      ]
     },
     "execution_count": 28,
     "metadata": {},
     "output_type": "execute_result"
    }
   ],
   "source": [
    "dataset.head(3)"
   ]
  },
  {
   "cell_type": "code",
   "execution_count": 29,
   "metadata": {},
   "outputs": [
    {
     "data": {
      "image/png": "[encoded data removed]",
      "text/plain": [
       "<Figure size 720x720 with 2 Axes>"
      ]
     },
     "metadata": {
      "needs_background": "light"
     },
     "output_type": "display_data"
    }
   ],
   "source": [
    "numeric_features = ['age', 'balance', 'duration', 'pdays', 'previous', 'response']\n",
    "\n",
    "cormat = dataset[numeric_features].corr()\n",
    "\n",
    "plt.figure(figsize=(10,10))\n",
    "grafik = sns.heatmap(cormat, square = True, annot = True)\n",
    "bottom, top = grafik.get_ylim()\n",
    "grafik.set_ylim(bottom + 0.5, top - 0.5)\n",
    "plt.show()"
   ]
  },
  {
   "cell_type": "markdown",
   "metadata": {},
   "source": [
    "Column pdays dan previous saling berkorelasi tinggi, tentunya hal ini akan membuat multikolinearitas. Oleh karena itu, salah satu dari kedua feature tersebut tidak digunakan."
   ]
  },
  {
   "cell_type": "code",
   "execution_count": 30,
   "metadata": {},
   "outputs": [],
   "source": [
    "#change data type feature day\n",
    "dataset['day'] = dataset['day'].apply(str)"
   ]
  },
  {
   "cell_type": "code",
   "execution_count": 31,
   "metadata": {},
   "outputs": [
    {
     "name": "stdout",
     "output_type": "stream",
     "text": [
      "<class 'pandas.core.frame.DataFrame'>\n",
      "RangeIndex: 11162 entries, 0 to 11161\n",
      "Data columns (total 17 columns):\n",
      "age          11162 non-null int64\n",
      "job          11162 non-null object\n",
      "marital      11162 non-null object\n",
      "education    11162 non-null object\n",
      "defaults     11162 non-null int32\n",
      "balance      11162 non-null int64\n",
      "housing      11162 non-null int32\n",
      "loan         11162 non-null int32\n",
      "contact      11162 non-null object\n",
      "day          11162 non-null object\n",
      "month        11162 non-null object\n",
      "duration     11162 non-null int64\n",
      "campaign     11162 non-null int64\n",
      "pdays        11162 non-null int64\n",
      "previous     11162 non-null int64\n",
      "poutcome     11162 non-null object\n",
      "response     11162 non-null int32\n",
      "dtypes: int32(4), int64(6), object(7)\n",
      "memory usage: 1.3+ MB\n"
     ]
    }
   ],
   "source": [
    "dataset.info()"
   ]
  },
  {
   "cell_type": "code",
   "execution_count": 32,
   "metadata": {},
   "outputs": [
    {
     "data": {
      "image/png": "[encoded data removed]",
      "text/plain": [
       "<Figure size 1080x504 with 4 Axes>"
      ]
     },
     "metadata": {
      "needs_background": "light"
     },
     "output_type": "display_data"
    }
   ],
   "source": [
    "#Check Outlier\n",
    "num_features = ['age', 'balance', 'duration', 'pdays']\n",
    "plt.figure(figsize=(15, 7))\n",
    "for i in range(0, len(num_features)):\n",
    "    plt.subplot(1, len(num_features), i+1)\n",
    "    sns.boxplot(y=dataset[num_features[i]],color='lightblue',orient='v')\n",
    "    plt.tight_layout()"
   ]
  },
  {
   "cell_type": "markdown",
   "metadata": {},
   "source": [
    "Feature pdays, dan previous memiliki banyak outlier. Oleh karena itu, lebih baik kedua feature tersebut tidak digunakan."
   ]
  },
  {
   "cell_type": "code",
   "execution_count": 33,
   "metadata": {},
   "outputs": [],
   "source": [
    "dataset = dataset.drop(['pdays', 'previous'], axis = 1)"
   ]
  },
  {
   "cell_type": "code",
   "execution_count": 34,
   "metadata": {},
   "outputs": [],
   "source": [
    "dataset = dataset[dataset['balance'] >= 0]"
   ]
  },
  {
   "cell_type": "code",
   "execution_count": 35,
   "metadata": {},
   "outputs": [
    {
     "name": "stdout",
     "output_type": "stream",
     "text": [
      "age           17.00\n",
      "balance     1657.50\n",
      "duration     353.75\n",
      "dtype: float64\n"
     ]
    }
   ],
   "source": [
    "#handle outlier\n",
    "Q1 = (dataset[['age', 'balance', 'duration']]).quantile(0.25)\n",
    "Q3 = (dataset[['age', 'balance', 'duration']]).quantile(0.75)\n",
    "\n",
    "IQR = Q3 - Q1\n",
    "print (IQR)\n",
    "\n",
    "for col_name in list(['age', 'balance', 'duration']):\n",
    "     low_limit = Q1[col_name] - 1.5 * IQR[col_name]\n",
    "     high_limit = Q3[col_name] + 1.5 * IQR[col_name]\n",
    "     dataset = dataset[~(dataset[col_name] < low_limit)]\n",
    "     dataset = dataset[~(dataset[col_name] > high_limit )]"
   ]
  },
  {
   "cell_type": "code",
   "execution_count": 36,
   "metadata": {},
   "outputs": [],
   "source": [
    "X = pd.get_dummies(dataset.drop('response', axis = 1))\n",
    "y = dataset['response']"
   ]
  },
  {
   "cell_type": "code",
   "execution_count": 37,
   "metadata": {},
   "outputs": [],
   "source": [
    "X_train, X_test, y_train, y_test = train_test_split (X, y, test_size = 0.2, random_state = 42)"
   ]
  },
  {
   "cell_type": "markdown",
   "metadata": {},
   "source": [
    "## Modelling"
   ]
  },
  {
   "cell_type": "code",
   "execution_count": 38,
   "metadata": {},
   "outputs": [
    {
     "data": {
      "text/html": [
       "<div>\n",
       "<style scoped>\n",
       "    .dataframe tbody tr th:only-of-type {\n",
       "        vertical-align: middle;\n",
       "    }\n",
       "\n",
       "    .dataframe tbody tr th {\n",
       "        vertical-align: top;\n",
       "    }\n",
       "\n",
       "    .dataframe thead th {\n",
       "        text-align: right;\n",
       "    }\n",
       "</style>\n",
       "<table border=\"1\" class=\"dataframe\">\n",
       "  <thead>\n",
       "    <tr style=\"text-align: right;\">\n",
       "      <th></th>\n",
       "      <th>Training</th>\n",
       "      <th>Testing</th>\n",
       "    </tr>\n",
       "  </thead>\n",
       "  <tbody>\n",
       "    <tr>\n",
       "      <td>Accuration Score</td>\n",
       "      <td>0.736536</td>\n",
       "      <td>0.725057</td>\n",
       "    </tr>\n",
       "    <tr>\n",
       "      <td>Precision Score</td>\n",
       "      <td>0.738685</td>\n",
       "      <td>0.728424</td>\n",
       "    </tr>\n",
       "    <tr>\n",
       "      <td>F1-Score</td>\n",
       "      <td>0.727557</td>\n",
       "      <td>0.711897</td>\n",
       "    </tr>\n",
       "    <tr>\n",
       "      <td>Recall Score</td>\n",
       "      <td>0.725443</td>\n",
       "      <td>0.709672</td>\n",
       "    </tr>\n",
       "  </tbody>\n",
       "</table>\n",
       "</div>"
      ],
      "text/plain": [
       "                  Training   Testing\n",
       "Accuration Score  0.736536  0.725057\n",
       "Precision Score   0.738685  0.728424\n",
       "F1-Score          0.727557  0.711897\n",
       "Recall Score      0.725443  0.709672"
      ]
     },
     "execution_count": 38,
     "metadata": {},
     "output_type": "execute_result"
    }
   ],
   "source": [
    "model1 = GaussianNB()\n",
    "model1.fit(X_train, y_train)\n",
    "predicted_train = model1.predict(X_train)\n",
    "predicted_test = model1.predict(X_test)\n",
    "\n",
    "training = [accuracy_score(y_train, predicted_train), precision_score(y_train, predicted_train, average='macro'), f1_score(y_train, predicted_train, average='macro'), recall_score(y_train, predicted_train, average='macro')]\n",
    "testing = [accuracy_score(y_test, predicted_test), precision_score(y_test, predicted_test, average='macro'), f1_score(y_test, predicted_test, average='macro'), recall_score(y_test, predicted_test, average='macro')]\n",
    "\n",
    "result = pd.DataFrame({\n",
    "    'Training': training,\n",
    "    'Testing': testing\n",
    "}, index=['Accuration Score', 'Precision Score', 'F1-Score', 'Recall Score'])\n",
    "result.head()"
   ]
  },
  {
   "cell_type": "code",
   "execution_count": 39,
   "metadata": {},
   "outputs": [
    {
     "data": {
      "text/html": [
       "<div>\n",
       "<style scoped>\n",
       "    .dataframe tbody tr th:only-of-type {\n",
       "        vertical-align: middle;\n",
       "    }\n",
       "\n",
       "    .dataframe tbody tr th {\n",
       "        vertical-align: top;\n",
       "    }\n",
       "\n",
       "    .dataframe thead th {\n",
       "        text-align: right;\n",
       "    }\n",
       "</style>\n",
       "<table border=\"1\" class=\"dataframe\">\n",
       "  <thead>\n",
       "    <tr style=\"text-align: right;\">\n",
       "      <th></th>\n",
       "      <th>Training</th>\n",
       "      <th>Testing</th>\n",
       "    </tr>\n",
       "  </thead>\n",
       "  <tbody>\n",
       "    <tr>\n",
       "      <td>Accuration Score</td>\n",
       "      <td>0.991780</td>\n",
       "      <td>0.828798</td>\n",
       "    </tr>\n",
       "    <tr>\n",
       "      <td>Precision Score</td>\n",
       "      <td>0.991997</td>\n",
       "      <td>0.827988</td>\n",
       "    </tr>\n",
       "    <tr>\n",
       "      <td>F1-Score</td>\n",
       "      <td>0.991681</td>\n",
       "      <td>0.825231</td>\n",
       "    </tr>\n",
       "    <tr>\n",
       "      <td>Recall Score</td>\n",
       "      <td>0.991383</td>\n",
       "      <td>0.823462</td>\n",
       "    </tr>\n",
       "  </tbody>\n",
       "</table>\n",
       "</div>"
      ],
      "text/plain": [
       "                  Training   Testing\n",
       "Accuration Score  0.991780  0.828798\n",
       "Precision Score   0.991997  0.827988\n",
       "F1-Score          0.991681  0.825231\n",
       "Recall Score      0.991383  0.823462"
      ]
     },
     "execution_count": 39,
     "metadata": {},
     "output_type": "execute_result"
    }
   ],
   "source": [
    "model2 = RandomForestClassifier()\n",
    "model2.fit(X_train, y_train)\n",
    "predicted_train = model2.predict(X_train)\n",
    "predicted_test = model2.predict(X_test)\n",
    "\n",
    "training = [accuracy_score(y_train, predicted_train), precision_score(y_train, predicted_train, average='macro'), f1_score(y_train, predicted_train, average='macro'), recall_score(y_train, predicted_train, average='macro')]\n",
    "testing = [accuracy_score(y_test, predicted_test), precision_score(y_test, predicted_test, average='macro'), f1_score(y_test, predicted_test, average='macro'), recall_score(y_test, predicted_test, average='macro')]\n",
    "\n",
    "result = pd.DataFrame({\n",
    "    'Training': training,\n",
    "    'Testing': testing\n",
    "}, index=['Accuration Score', 'Precision Score', 'F1-Score', 'Recall Score'])\n",
    "result.head()"
   ]
  },
  {
   "cell_type": "code",
   "execution_count": 40,
   "metadata": {},
   "outputs": [
    {
     "data": {
      "text/html": [
       "<div>\n",
       "<style scoped>\n",
       "    .dataframe tbody tr th:only-of-type {\n",
       "        vertical-align: middle;\n",
       "    }\n",
       "\n",
       "    .dataframe tbody tr th {\n",
       "        vertical-align: top;\n",
       "    }\n",
       "\n",
       "    .dataframe thead th {\n",
       "        text-align: right;\n",
       "    }\n",
       "</style>\n",
       "<table border=\"1\" class=\"dataframe\">\n",
       "  <thead>\n",
       "    <tr style=\"text-align: right;\">\n",
       "      <th></th>\n",
       "      <th>Training</th>\n",
       "      <th>Testing</th>\n",
       "    </tr>\n",
       "  </thead>\n",
       "  <tbody>\n",
       "    <tr>\n",
       "      <td>Accuration Score</td>\n",
       "      <td>0.828090</td>\n",
       "      <td>0.835601</td>\n",
       "    </tr>\n",
       "    <tr>\n",
       "      <td>Precision Score</td>\n",
       "      <td>0.826899</td>\n",
       "      <td>0.834750</td>\n",
       "    </tr>\n",
       "    <tr>\n",
       "      <td>F1-Score</td>\n",
       "      <td>0.825552</td>\n",
       "      <td>0.832286</td>\n",
       "    </tr>\n",
       "    <tr>\n",
       "      <td>Recall Score</td>\n",
       "      <td>0.824571</td>\n",
       "      <td>0.830636</td>\n",
       "    </tr>\n",
       "  </tbody>\n",
       "</table>\n",
       "</div>"
      ],
      "text/plain": [
       "                  Training   Testing\n",
       "Accuration Score  0.828090  0.835601\n",
       "Precision Score   0.826899  0.834750\n",
       "F1-Score          0.825552  0.832286\n",
       "Recall Score      0.824571  0.830636"
      ]
     },
     "execution_count": 40,
     "metadata": {},
     "output_type": "execute_result"
    }
   ],
   "source": [
    "model3 = LogisticRegression()\n",
    "model3.fit(X_train, y_train)\n",
    "predicted_train = model3.predict(X_train)\n",
    "predicted_test = model3.predict(X_test)\n",
    "\n",
    "training = [accuracy_score(y_train, predicted_train), precision_score(y_train, predicted_train, average='macro'), f1_score(y_train, predicted_train, average='macro'), recall_score(y_train, predicted_train, average='macro')]\n",
    "testing = [accuracy_score(y_test, predicted_test), precision_score(y_test, predicted_test, average='macro'), f1_score(y_test, predicted_test, average='macro'), recall_score(y_test, predicted_test, average='macro')]\n",
    "\n",
    "result = pd.DataFrame({\n",
    "    'Training': training,\n",
    "    'Testing': testing\n",
    "}, index=['Accuration Score', 'Precision Score', 'F1-Score', 'Recall Score'])\n",
    "result.head()"
   ]
  },
  {
   "cell_type": "code",
   "execution_count": 41,
   "metadata": {},
   "outputs": [
    {
     "data": {
      "text/html": [
       "<div>\n",
       "<style scoped>\n",
       "    .dataframe tbody tr th:only-of-type {\n",
       "        vertical-align: middle;\n",
       "    }\n",
       "\n",
       "    .dataframe tbody tr th {\n",
       "        vertical-align: top;\n",
       "    }\n",
       "\n",
       "    .dataframe thead th {\n",
       "        text-align: right;\n",
       "    }\n",
       "</style>\n",
       "<table border=\"1\" class=\"dataframe\">\n",
       "  <thead>\n",
       "    <tr style=\"text-align: right;\">\n",
       "      <th></th>\n",
       "      <th>Training</th>\n",
       "      <th>Testing</th>\n",
       "    </tr>\n",
       "  </thead>\n",
       "  <tbody>\n",
       "    <tr>\n",
       "      <td>Accuration Score</td>\n",
       "      <td>0.851049</td>\n",
       "      <td>0.845805</td>\n",
       "    </tr>\n",
       "    <tr>\n",
       "      <td>Precision Score</td>\n",
       "      <td>0.849049</td>\n",
       "      <td>0.843377</td>\n",
       "    </tr>\n",
       "    <tr>\n",
       "      <td>F1-Score</td>\n",
       "      <td>0.849722</td>\n",
       "      <td>0.843797</td>\n",
       "    </tr>\n",
       "    <tr>\n",
       "      <td>Recall Score</td>\n",
       "      <td>0.850647</td>\n",
       "      <td>0.844273</td>\n",
       "    </tr>\n",
       "  </tbody>\n",
       "</table>\n",
       "</div>"
      ],
      "text/plain": [
       "                  Training   Testing\n",
       "Accuration Score  0.851049  0.845805\n",
       "Precision Score   0.849049  0.843377\n",
       "F1-Score          0.849722  0.843797\n",
       "Recall Score      0.850647  0.844273"
      ]
     },
     "execution_count": 41,
     "metadata": {},
     "output_type": "execute_result"
    }
   ],
   "source": [
    "model4 = GradientBoostingClassifier()\n",
    "model4.fit(X_train, y_train)\n",
    "predicted_train = model4.predict(X_train)\n",
    "predicted_test = model4.predict(X_test)\n",
    "\n",
    "training = [accuracy_score(y_train, predicted_train), precision_score(y_train, predicted_train, average='macro'), f1_score(y_train, predicted_train, average='macro'), recall_score(y_train, predicted_train, average='macro')]\n",
    "testing = [accuracy_score(y_test, predicted_test), precision_score(y_test, predicted_test, average='macro'), f1_score(y_test, predicted_test, average='macro'), recall_score(y_test, predicted_test, average='macro')]\n",
    "\n",
    "result = pd.DataFrame({\n",
    "    'Training': training,\n",
    "    'Testing': testing\n",
    "}, index=['Accuration Score', 'Precision Score', 'F1-Score', 'Recall Score'])\n",
    "result.head()"
   ]
  },
  {
   "cell_type": "markdown",
   "metadata": {},
   "source": [
    "## Evaluation model\n",
    "\n",
    "Karena target sedikit tidak seimbang, maka kita gunakan metrik F1-Score.\n",
    "1. Model Naive Bayes mendapatkan F1-Score 72.7557% untuk training dan 71.1897% untuk testing. Oleh karena itu, disimpulkan bahwa model ini cukup baik untuk melakukan prediksi.\n",
    "2. Model Random Forest Classifier mendapatkan F1-Score 99.1681% untuk training, dan 82.5231% untuk testing. Oleh karena itu, disimpulkan bahwa model ini overfitting.\n",
    "3. Model Logistic Regresiion mendapatkan F1-Score 82.5552% untuk training dan 83.2286% untuk testing. Oleh karena itu, disimpulkan bahwa model ini underfitting.\n",
    "4. Model Gradient Boosting mendapatkan F1-Score 85.0647% untuk training dan 84.4273% untuk testing. Oleh karena itu, disimpulkan bahwa model ini baik untuk melakukan prediksi.\n",
    "\n",
    "Karena nilai f-1 score model gradient boosting > model naive bayes. Oleh karena itu, model yang akan dipilih adalah **Gradient Boosting**. "
   ]
  },
  {
   "cell_type": "markdown",
   "metadata": {},
   "source": [
    "## Hypertuning Parameters"
   ]
  },
  {
   "cell_type": "code",
   "execution_count": 51,
   "metadata": {},
   "outputs": [
    {
     "data": {
      "text/plain": [
       "RandomizedSearchCV(cv=5, error_score='raise-deprecating',\n",
       "                   estimator=GradientBoostingClassifier(criterion='friedman_mse',\n",
       "                                                        init=None,\n",
       "                                                        learning_rate=0.1,\n",
       "                                                        loss='deviance',\n",
       "                                                        max_depth=3,\n",
       "                                                        max_features=None,\n",
       "                                                        max_leaf_nodes=None,\n",
       "                                                        min_impurity_decrease=0.0,\n",
       "                                                        min_impurity_split=None,\n",
       "                                                        min_samples_leaf=1,\n",
       "                                                        min_samples_split=2,\n",
       "                                                        min_weight_fraction_leaf=0.0,\n",
       "                                                        n_estimators=100,\n",
       "                                                        n_i...\n",
       "                                                        presort='auto',\n",
       "                                                        random_state=None,\n",
       "                                                        subsample=1.0,\n",
       "                                                        tol=0.0001,\n",
       "                                                        validation_fraction=0.1,\n",
       "                                                        verbose=0,\n",
       "                                                        warm_start=False),\n",
       "                   iid='warn', n_iter=10, n_jobs=None,\n",
       "                   param_distributions={'learning_rate': [0.01, 0.1, 1, 10,\n",
       "                                                          100],\n",
       "                                        'max_depth': [1, 3, 5, 7, 9],\n",
       "                                        'n_estimators': [5, 50, 250, 500]},\n",
       "                   pre_dispatch='2*n_jobs', random_state=None, refit=True,\n",
       "                   return_train_score=False, scoring=None, verbose=0)"
      ]
     },
     "execution_count": 51,
     "metadata": {},
     "output_type": "execute_result"
    }
   ],
   "source": [
    "from sklearn.model_selection import RandomizedSearchCV\n",
    "\n",
    "parameters = {\n",
    "    \"n_estimators\":[5,50,250,500],\n",
    "    \"max_depth\":[1,3,5,7,9],\n",
    "    \"learning_rate\":[0.01,0.1,1,10,100]\n",
    "}\n",
    "\n",
    "cv = RandomizedSearchCV(model4, parameters, cv=5)\n",
    "cv.fit(X_train,y_train)"
   ]
  },
  {
   "cell_type": "code",
   "execution_count": 52,
   "metadata": {},
   "outputs": [],
   "source": [
    "def display(results):\n",
    "    print(f'Best parameters are: {results.best_params_}')\n",
    "    print(\"\\n\")\n",
    "    mean_score = results.cv_results_['mean_test_score']\n",
    "    std_score = results.cv_results_['std_test_score']\n",
    "    params = results.cv_results_['params']\n",
    "    for mean,std,params in zip(mean_score,std_score,params):\n",
    "        print(f'{round(mean,3)} + or -{round(std,3)} for the {params}')"
   ]
  },
  {
   "cell_type": "code",
   "execution_count": 53,
   "metadata": {},
   "outputs": [
    {
     "name": "stdout",
     "output_type": "stream",
     "text": [
      "Best parameters are: {'n_estimators': 500, 'max_depth': 3, 'learning_rate': 0.1}\n",
      "\n",
      "\n",
      "0.495 + or -0.075 for the {'n_estimators': 500, 'max_depth': 9, 'learning_rate': 100}\n",
      "0.306 + or -0.007 for the {'n_estimators': 250, 'max_depth': 1, 'learning_rate': 10}\n",
      "0.839 + or -0.005 for the {'n_estimators': 500, 'max_depth': 3, 'learning_rate': 0.1}\n",
      "0.383 + or -0.083 for the {'n_estimators': 50, 'max_depth': 7, 'learning_rate': 100}\n",
      "0.355 + or -0.077 for the {'n_estimators': 250, 'max_depth': 5, 'learning_rate': 100}\n",
      "0.306 + or -0.007 for the {'n_estimators': 5, 'max_depth': 1, 'learning_rate': 10}\n",
      "0.824 + or -0.005 for the {'n_estimators': 50, 'max_depth': 3, 'learning_rate': 0.1}\n",
      "0.837 + or -0.006 for the {'n_estimators': 500, 'max_depth': 9, 'learning_rate': 0.01}\n",
      "0.819 + or -0.007 for the {'n_estimators': 500, 'max_depth': 1, 'learning_rate': 1}\n",
      "0.531 + or -0.102 for the {'n_estimators': 50, 'max_depth': 9, 'learning_rate': 10}\n"
     ]
    }
   ],
   "source": [
    "display(cv)"
   ]
  },
  {
   "cell_type": "markdown",
   "metadata": {},
   "source": [
    "## New Training"
   ]
  },
  {
   "cell_type": "code",
   "execution_count": 54,
   "metadata": {},
   "outputs": [
    {
     "data": {
      "text/html": [
       "<div>\n",
       "<style scoped>\n",
       "    .dataframe tbody tr th:only-of-type {\n",
       "        vertical-align: middle;\n",
       "    }\n",
       "\n",
       "    .dataframe tbody tr th {\n",
       "        vertical-align: top;\n",
       "    }\n",
       "\n",
       "    .dataframe thead th {\n",
       "        text-align: right;\n",
       "    }\n",
       "</style>\n",
       "<table border=\"1\" class=\"dataframe\">\n",
       "  <thead>\n",
       "    <tr style=\"text-align: right;\">\n",
       "      <th></th>\n",
       "      <th>Training</th>\n",
       "      <th>Testing</th>\n",
       "    </tr>\n",
       "  </thead>\n",
       "  <tbody>\n",
       "    <tr>\n",
       "      <td>Accuration Score</td>\n",
       "      <td>0.901927</td>\n",
       "      <td>0.852608</td>\n",
       "    </tr>\n",
       "    <tr>\n",
       "      <td>Precision Score</td>\n",
       "      <td>0.900248</td>\n",
       "      <td>0.850298</td>\n",
       "    </tr>\n",
       "    <tr>\n",
       "      <td>F1-Score</td>\n",
       "      <td>0.901072</td>\n",
       "      <td>0.850649</td>\n",
       "    </tr>\n",
       "    <tr>\n",
       "      <td>Recall Score</td>\n",
       "      <td>0.902211</td>\n",
       "      <td>0.851036</td>\n",
       "    </tr>\n",
       "  </tbody>\n",
       "</table>\n",
       "</div>"
      ],
      "text/plain": [
       "                  Training   Testing\n",
       "Accuration Score  0.901927  0.852608\n",
       "Precision Score   0.900248  0.850298\n",
       "F1-Score          0.901072  0.850649\n",
       "Recall Score      0.902211  0.851036"
      ]
     },
     "execution_count": 54,
     "metadata": {},
     "output_type": "execute_result"
    }
   ],
   "source": [
    "GBC = GradientBoostingClassifier(learning_rate=0.1, max_depth=3, n_estimators=500)\n",
    "GBC.fit(X_train, y_train)\n",
    "predicted_train = GBC.predict(X_train)\n",
    "predicted_test = GBC.predict(X_test)\n",
    "\n",
    "training = [accuracy_score(y_train, predicted_train), precision_score(y_train, predicted_train, average='macro'), f1_score(y_train, predicted_train, average='macro'), recall_score(y_train, predicted_train, average='macro')]\n",
    "testing = [accuracy_score(y_test, predicted_test), precision_score(y_test, predicted_test, average='macro'), f1_score(y_test, predicted_test, average='macro'), recall_score(y_test, predicted_test, average='macro')]\n",
    "\n",
    "result = pd.DataFrame({\n",
    "    'Training': training,\n",
    "    'Testing': testing\n",
    "}, index=['Accuration Score', 'Precision Score', 'F1-Score', 'Recall Score'])\n",
    "result.head()"
   ]
  },
  {
   "cell_type": "markdown",
   "metadata": {},
   "source": [
    "## Import to Pickle File"
   ]
  },
  {
   "cell_type": "code",
   "execution_count": 55,
   "metadata": {},
   "outputs": [],
   "source": [
    "import pickle\n",
    "pickle.dump(GBC, open('gradient_boosting_model.pkl', 'wb'))"
   ]
  },
  {
   "cell_type": "code",
   "execution_count": null,
   "metadata": {},
   "outputs": [],
   "source": []
  }
 ],
 "metadata": {
  "kernelspec": {
   "display_name": "Python 3",
   "language": "python",
   "name": "python3"
  },
  "language_info": {
   "codemirror_mode": {
    "name": "ipython",
    "version": 3
   },
   "file_extension": ".py",
   "mimetype": "text/x-python",
   "name": "python",
   "nbconvert_exporter": "python",
   "pygments_lexer": "ipython3",
   "version": "3.7.4"
  }
 },
 "nbformat": 4,
 "nbformat_minor": 2
}
